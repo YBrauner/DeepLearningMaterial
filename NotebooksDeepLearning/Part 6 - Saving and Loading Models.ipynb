{
 "cells": [
  {
   "cell_type": "markdown",
   "metadata": {},
   "source": [
    "# Saving and Loading Models\n",
    "\n",
    "In this notebook, I'll show you how to save and load models with PyTorch. This is important because you'll often want to load previously trained models to use in making predictions or to continue training on new data."
   ]
  },
  {
   "cell_type": "code",
   "execution_count": 1,
   "metadata": {},
   "outputs": [],
   "source": [
    "%matplotlib inline\n",
    "%config InlineBackend.figure_format = 'retina'\n",
    "\n",
    "import matplotlib.pyplot as plt\n",
    "\n",
    "import torch\n",
    "from torch import nn\n",
    "from torch import optim\n",
    "import torch.nn.functional as F\n",
    "from torchvision import datasets, transforms\n",
    "\n",
    "import helper\n",
    "import fc_model"
   ]
  },
  {
   "cell_type": "code",
   "execution_count": 2,
   "metadata": {},
   "outputs": [
    {
     "name": "stdout",
     "output_type": "stream",
     "text": [
      "Downloading http://fashion-mnist.s3-website.eu-central-1.amazonaws.com/train-images-idx3-ubyte.gz\n",
      "Downloading http://fashion-mnist.s3-website.eu-central-1.amazonaws.com/train-labels-idx1-ubyte.gz\n",
      "Downloading http://fashion-mnist.s3-website.eu-central-1.amazonaws.com/t10k-images-idx3-ubyte.gz\n",
      "Downloading http://fashion-mnist.s3-website.eu-central-1.amazonaws.com/t10k-labels-idx1-ubyte.gz\n",
      "Processing...\n",
      "Done!\n"
     ]
    }
   ],
   "source": [
    "# Define a transform to normalize the data\n",
    "transform = transforms.Compose([transforms.ToTensor(),\n",
    "                                transforms.Normalize((0.5,), (0.5,))])\n",
    "# Download and load the training data\n",
    "trainset = datasets.FashionMNIST('F_MNIST_data/', download=True, train=True, transform=transform)\n",
    "trainloader = torch.utils.data.DataLoader(trainset, batch_size=64, shuffle=True)\n",
    "\n",
    "# Download and load the test data\n",
    "testset = datasets.FashionMNIST('F_MNIST_data/', download=True, train=False, transform=transform)\n",
    "testloader = torch.utils.data.DataLoader(testset, batch_size=64, shuffle=True)"
   ]
  },
  {
   "cell_type": "markdown",
   "metadata": {},
   "source": [
    "Here we can see one of the images."
   ]
  },
  {
   "cell_type": "code",
   "execution_count": 10,
   "metadata": {},
   "outputs": [
    {
     "data": {
      "image/png": "[encoded data removed]",
      "text/plain": [
       "<matplotlib.figure.Figure at 0x7f7d11c12cc0>"
      ]
     },
     "metadata": {
      "image/png": {
       "height": 233,
       "width": 233
      },
      "needs_background": "light"
     },
     "output_type": "display_data"
    }
   ],
   "source": [
    "image, label = next(iter(trainloader))\n",
    "helper.imshow(image[0,:]);"
   ]
  },
  {
   "cell_type": "markdown",
   "metadata": {},
   "source": [
    "# Train a network\n",
    "\n",
    "To make things more concise here, I moved the model architecture and training code from the last part to a file called `fc_model`. Importing this, we can easily create a fully-connected network with `fc_model.Network`, and train the network using `fc_model.train`. I'll use this model (once it's trained) to demonstrate how we can save and load models."
   ]
  },
  {
   "cell_type": "code",
   "execution_count": 11,
   "metadata": {},
   "outputs": [],
   "source": [
    "# Create the network, define the criterion and optimizer\n",
    "\n",
    "model = fc_model.Network(784, 10, [512, 256, 128])\n",
    "criterion = nn.NLLLoss()\n",
    "optimizer = optim.Adam(model.parameters(), lr=0.001)"
   ]
  },
  {
   "cell_type": "code",
   "execution_count": 12,
   "metadata": {
    "scrolled": true
   },
   "outputs": [
    {
     "name": "stdout",
     "output_type": "stream",
     "text": [
      "Epoch: 1/2..  Training Loss: 1.676..  Test Loss: 0.936..  Test Accuracy: 0.683\n",
      "Epoch: 1/2..  Training Loss: 1.005..  Test Loss: 0.733..  Test Accuracy: 0.727\n",
      "Epoch: 1/2..  Training Loss: 0.898..  Test Loss: 0.713..  Test Accuracy: 0.718\n",
      "Epoch: 1/2..  Training Loss: 0.816..  Test Loss: 0.645..  Test Accuracy: 0.765\n",
      "Epoch: 1/2..  Training Loss: 0.715..  Test Loss: 0.607..  Test Accuracy: 0.777\n",
      "Epoch: 1/2..  Training Loss: 0.705..  Test Loss: 0.596..  Test Accuracy: 0.780\n",
      "Epoch: 1/2..  Training Loss: 0.705..  Test Loss: 0.583..  Test Accuracy: 0.786\n",
      "Epoch: 1/2..  Training Loss: 0.661..  Test Loss: 0.551..  Test Accuracy: 0.799\n",
      "Epoch: 1/2..  Training Loss: 0.636..  Test Loss: 0.571..  Test Accuracy: 0.792\n",
      "Epoch: 1/2..  Training Loss: 0.647..  Test Loss: 0.540..  Test Accuracy: 0.797\n",
      "Epoch: 1/2..  Training Loss: 0.620..  Test Loss: 0.537..  Test Accuracy: 0.805\n",
      "Epoch: 1/2..  Training Loss: 0.641..  Test Loss: 0.553..  Test Accuracy: 0.797\n",
      "Epoch: 1/2..  Training Loss: 0.636..  Test Loss: 0.512..  Test Accuracy: 0.815\n",
      "Epoch: 1/2..  Training Loss: 0.597..  Test Loss: 0.520..  Test Accuracy: 0.811\n",
      "Epoch: 1/2..  Training Loss: 0.590..  Test Loss: 0.520..  Test Accuracy: 0.810\n",
      "Epoch: 1/2..  Training Loss: 0.591..  Test Loss: 0.497..  Test Accuracy: 0.813\n",
      "Epoch: 1/2..  Training Loss: 0.588..  Test Loss: 0.504..  Test Accuracy: 0.821\n",
      "Epoch: 1/2..  Training Loss: 0.556..  Test Loss: 0.499..  Test Accuracy: 0.820\n",
      "Epoch: 1/2..  Training Loss: 0.587..  Test Loss: 0.510..  Test Accuracy: 0.811\n",
      "Epoch: 1/2..  Training Loss: 0.574..  Test Loss: 0.487..  Test Accuracy: 0.825\n",
      "Epoch: 1/2..  Training Loss: 0.585..  Test Loss: 0.486..  Test Accuracy: 0.818\n",
      "Epoch: 1/2..  Training Loss: 0.603..  Test Loss: 0.482..  Test Accuracy: 0.820\n",
      "Epoch: 1/2..  Training Loss: 0.624..  Test Loss: 0.486..  Test Accuracy: 0.827\n",
      "Epoch: 2/2..  Training Loss: 0.567..  Test Loss: 0.488..  Test Accuracy: 0.820\n",
      "Epoch: 2/2..  Training Loss: 0.533..  Test Loss: 0.479..  Test Accuracy: 0.822\n",
      "Epoch: 2/2..  Training Loss: 0.566..  Test Loss: 0.483..  Test Accuracy: 0.822\n",
      "Epoch: 2/2..  Training Loss: 0.551..  Test Loss: 0.490..  Test Accuracy: 0.823\n",
      "Epoch: 2/2..  Training Loss: 0.517..  Test Loss: 0.478..  Test Accuracy: 0.824\n",
      "Epoch: 2/2..  Training Loss: 0.506..  Test Loss: 0.473..  Test Accuracy: 0.830\n",
      "Epoch: 2/2..  Training Loss: 0.565..  Test Loss: 0.476..  Test Accuracy: 0.830\n",
      "Epoch: 2/2..  Training Loss: 0.533..  Test Loss: 0.464..  Test Accuracy: 0.834\n",
      "Epoch: 2/2..  Training Loss: 0.514..  Test Loss: 0.472..  Test Accuracy: 0.829\n",
      "Epoch: 2/2..  Training Loss: 0.506..  Test Loss: 0.459..  Test Accuracy: 0.834\n",
      "Epoch: 2/2..  Training Loss: 0.510..  Test Loss: 0.463..  Test Accuracy: 0.833\n",
      "Epoch: 2/2..  Training Loss: 0.552..  Test Loss: 0.468..  Test Accuracy: 0.832\n",
      "Epoch: 2/2..  Training Loss: 0.534..  Test Loss: 0.440..  Test Accuracy: 0.836\n",
      "Epoch: 2/2..  Training Loss: 0.512..  Test Loss: 0.455..  Test Accuracy: 0.838\n",
      "Epoch: 2/2..  Training Loss: 0.524..  Test Loss: 0.452..  Test Accuracy: 0.832\n",
      "Epoch: 2/2..  Training Loss: 0.537..  Test Loss: 0.447..  Test Accuracy: 0.834\n",
      "Epoch: 2/2..  Training Loss: 0.537..  Test Loss: 0.451..  Test Accuracy: 0.837\n",
      "Epoch: 2/2..  Training Loss: 0.533..  Test Loss: 0.439..  Test Accuracy: 0.840\n",
      "Epoch: 2/2..  Training Loss: 0.531..  Test Loss: 0.470..  Test Accuracy: 0.830\n",
      "Epoch: 2/2..  Training Loss: 0.523..  Test Loss: 0.448..  Test Accuracy: 0.837\n",
      "Epoch: 2/2..  Training Loss: 0.514..  Test Loss: 0.455..  Test Accuracy: 0.830\n",
      "Epoch: 2/2..  Training Loss: 0.480..  Test Loss: 0.444..  Test Accuracy: 0.839\n",
      "Epoch: 2/2..  Training Loss: 0.489..  Test Loss: 0.444..  Test Accuracy: 0.843\n"
     ]
    }
   ],
   "source": [
    "fc_model.train(model, trainloader, testloader, criterion, optimizer, epochs=2)"
   ]
  },
  {
   "cell_type": "markdown",
   "metadata": {},
   "source": [
    "## Saving and loading networks\n",
    "\n",
    "As you can imagine, it's impractical to train a network every time you need to use it. Instead, we can save trained networks then load them later to train more or use them for predictions.\n",
    "\n",
    "The parameters for PyTorch networks are stored in a model's `state_dict`. We can see the state dict contains the weight and bias matrices for each of our layers."
   ]
  },
  {
   "cell_type": "code",
   "execution_count": 13,
   "metadata": {},
   "outputs": [
    {
     "name": "stdout",
     "output_type": "stream",
     "text": [
      "Our model: \n",
      "\n",
      " Network(\n",
      "  (hidden_layers): ModuleList(\n",
      "    (0): Linear(in_features=784, out_features=512, bias=True)\n",
      "    (1): Linear(in_features=512, out_features=256, bias=True)\n",
      "    (2): Linear(in_features=256, out_features=128, bias=True)\n",
      "  )\n",
      "  (output): Linear(in_features=128, out_features=10, bias=True)\n",
      "  (dropout): Dropout(p=0.5)\n",
      ") \n",
      "\n",
      "The state dict keys: \n",
      "\n",
      " odict_keys(['hidden_layers.0.weight', 'hidden_layers.0.bias', 'hidden_layers.1.weight', 'hidden_layers.1.bias', 'hidden_layers.2.weight', 'hidden_layers.2.bias', 'output.weight', 'output.bias'])\n"
     ]
    }
   ],
   "source": [
    "print(\"Our model: \\n\\n\", model, '\\n')\n",
    "print(\"The state dict keys: \\n\\n\", model.state_dict().keys())"
   ]
  },
  {
   "cell_type": "markdown",
   "metadata": {},
   "source": [
    "The simplest thing to do is simply save the state dict with `torch.save`. For example, we can save it to a file `'checkpoint.pth'`."
   ]
  },
  {
   "cell_type": "code",
   "execution_count": 14,
   "metadata": {},
   "outputs": [],
   "source": [
    "torch.save(model.state_dict(), 'checkpoint.pth')"
   ]
  },
  {
   "cell_type": "markdown",
   "metadata": {},
   "source": [
    "Then we can load the state dict with `torch.load`."
   ]
  },
  {
   "cell_type": "code",
   "execution_count": 15,
   "metadata": {},
   "outputs": [
    {
     "name": "stdout",
     "output_type": "stream",
     "text": [
      "odict_keys(['hidden_layers.0.weight', 'hidden_layers.0.bias', 'hidden_layers.1.weight', 'hidden_layers.1.bias', 'hidden_layers.2.weight', 'hidden_layers.2.bias', 'output.weight', 'output.bias'])\n"
     ]
    }
   ],
   "source": [
    "state_dict = torch.load('checkpoint.pth')\n",
    "print(state_dict.keys())"
   ]
  },
  {
   "cell_type": "markdown",
   "metadata": {},
   "source": [
    "And to load the state dict in to the network, you do `model.load_state_dict(state_dict)`."
   ]
  },
  {
   "cell_type": "code",
   "execution_count": 16,
   "metadata": {},
   "outputs": [],
   "source": [
    "model.load_state_dict(state_dict)"
   ]
  },
  {
   "cell_type": "markdown",
   "metadata": {},
   "source": [
    "Seems pretty straightforward, but as usual it's a bit more complicated. Loading the state dict works only if the model architecture is exactly the same as the checkpoint architecture. If I create a model with a different architecture, this fails."
   ]
  },
  {
   "cell_type": "code",
   "execution_count": 17,
   "metadata": {},
   "outputs": [
    {
     "ename": "RuntimeError",
     "evalue": "Error(s) in loading state_dict for Network:\n\tWhile copying the parameter named \"hidden_layers.0.weight\", whose dimensions in the model are torch.Size([400, 784]) and whose dimensions in the checkpoint are torch.Size([512, 784]).\n\tWhile copying the parameter named \"hidden_layers.0.bias\", whose dimensions in the model are torch.Size([400]) and whose dimensions in the checkpoint are torch.Size([512]).\n\tWhile copying the parameter named \"hidden_layers.1.weight\", whose dimensions in the model are torch.Size([200, 400]) and whose dimensions in the checkpoint are torch.Size([256, 512]).\n\tWhile copying the parameter named \"hidden_layers.1.bias\", whose dimensions in the model are torch.Size([200]) and whose dimensions in the checkpoint are torch.Size([256]).\n\tWhile copying the parameter named \"hidden_layers.2.weight\", whose dimensions in the model are torch.Size([100, 200]) and whose dimensions in the checkpoint are torch.Size([128, 256]).\n\tWhile copying the parameter named \"hidden_layers.2.bias\", whose dimensions in the model are torch.Size([100]) and whose dimensions in the checkpoint are torch.Size([128]).\n\tWhile copying the parameter named \"output.weight\", whose dimensions in the model are torch.Size([10, 100]) and whose dimensions in the checkpoint are torch.Size([10, 128]).",
     "output_type": "error",
     "traceback": [
      "\u001b[0;31m---------------------------------------------------------------------------\u001b[0m",
      "\u001b[0;31mRuntimeError\u001b[0m                              Traceback (most recent call last)",
      "\u001b[0;32m<ipython-input-17-d859c59ebec0>\u001b[0m in \u001b[0;36m<module>\u001b[0;34m()\u001b[0m\n\u001b[1;32m      2\u001b[0m \u001b[0mmodel\u001b[0m \u001b[0;34m=\u001b[0m \u001b[0mfc_model\u001b[0m\u001b[0;34m.\u001b[0m\u001b[0mNetwork\u001b[0m\u001b[0;34m(\u001b[0m\u001b[0;36m784\u001b[0m\u001b[0;34m,\u001b[0m \u001b[0;36m10\u001b[0m\u001b[0;34m,\u001b[0m \u001b[0;34m[\u001b[0m\u001b[0;36m400\u001b[0m\u001b[0;34m,\u001b[0m \u001b[0;36m200\u001b[0m\u001b[0;34m,\u001b[0m \u001b[0;36m100\u001b[0m\u001b[0;34m]\u001b[0m\u001b[0;34m)\u001b[0m\u001b[0;34m\u001b[0m\u001b[0m\n\u001b[1;32m      3\u001b[0m \u001b[0;31m# This will throw an error because the tensor sizes are wrong!\u001b[0m\u001b[0;34m\u001b[0m\u001b[0;34m\u001b[0m\u001b[0m\n\u001b[0;32m----> 4\u001b[0;31m \u001b[0mmodel\u001b[0m\u001b[0;34m.\u001b[0m\u001b[0mload_state_dict\u001b[0m\u001b[0;34m(\u001b[0m\u001b[0mstate_dict\u001b[0m\u001b[0;34m)\u001b[0m\u001b[0;34m\u001b[0m\u001b[0m\n\u001b[0m",
      "\u001b[0;32m/opt/conda/lib/python3.6/site-packages/torch/nn/modules/module.py\u001b[0m in \u001b[0;36mload_state_dict\u001b[0;34m(self, state_dict, strict)\u001b[0m\n\u001b[1;32m    719\u001b[0m         \u001b[0;32mif\u001b[0m \u001b[0mlen\u001b[0m\u001b[0;34m(\u001b[0m\u001b[0merror_msgs\u001b[0m\u001b[0;34m)\u001b[0m \u001b[0;34m>\u001b[0m \u001b[0;36m0\u001b[0m\u001b[0;34m:\u001b[0m\u001b[0;34m\u001b[0m\u001b[0m\n\u001b[1;32m    720\u001b[0m             raise RuntimeError('Error(s) in loading state_dict for {}:\\n\\t{}'.format(\n\u001b[0;32m--> 721\u001b[0;31m                                self.__class__.__name__, \"\\n\\t\".join(error_msgs)))\n\u001b[0m\u001b[1;32m    722\u001b[0m \u001b[0;34m\u001b[0m\u001b[0m\n\u001b[1;32m    723\u001b[0m     \u001b[0;32mdef\u001b[0m \u001b[0mparameters\u001b[0m\u001b[0;34m(\u001b[0m\u001b[0mself\u001b[0m\u001b[0;34m)\u001b[0m\u001b[0;34m:\u001b[0m\u001b[0;34m\u001b[0m\u001b[0m\n",
      "\u001b[0;31mRuntimeError\u001b[0m: Error(s) in loading state_dict for Network:\n\tWhile copying the parameter named \"hidden_layers.0.weight\", whose dimensions in the model are torch.Size([400, 784]) and whose dimensions in the checkpoint are torch.Size([512, 784]).\n\tWhile copying the parameter named \"hidden_layers.0.bias\", whose dimensions in the model are torch.Size([400]) and whose dimensions in the checkpoint are torch.Size([512]).\n\tWhile copying the parameter named \"hidden_layers.1.weight\", whose dimensions in the model are torch.Size([200, 400]) and whose dimensions in the checkpoint are torch.Size([256, 512]).\n\tWhile copying the parameter named \"hidden_layers.1.bias\", whose dimensions in the model are torch.Size([200]) and whose dimensions in the checkpoint are torch.Size([256]).\n\tWhile copying the parameter named \"hidden_layers.2.weight\", whose dimensions in the model are torch.Size([100, 200]) and whose dimensions in the checkpoint are torch.Size([128, 256]).\n\tWhile copying the parameter named \"hidden_layers.2.bias\", whose dimensions in the model are torch.Size([100]) and whose dimensions in the checkpoint are torch.Size([128]).\n\tWhile copying the parameter named \"output.weight\", whose dimensions in the model are torch.Size([10, 100]) and whose dimensions in the checkpoint are torch.Size([10, 128])."
     ]
    }
   ],
   "source": [
    "# Try this\n",
    "model = fc_model.Network(784, 10, [400, 200, 100])\n",
    "# This will throw an error because the tensor sizes are wrong!\n",
    "model.load_state_dict(state_dict)"
   ]
  },
  {
   "cell_type": "markdown",
   "metadata": {},
   "source": [
    "This means we need to rebuild the model exactly as it was when trained. Information about the model architecture needs to be saved in the checkpoint, along with the state dict. To do this, you build a dictionary with all the information you need to compeletely rebuild the model."
   ]
  },
  {
   "cell_type": "code",
   "execution_count": 18,
   "metadata": {},
   "outputs": [],
   "source": [
    "checkpoint = {'input_size': 784,\n",
    "              'output_size': 10,\n",
    "              'hidden_layers': [each.out_features for each in model.hidden_layers],\n",
    "              'state_dict': model.state_dict()}\n",
    "\n",
    "torch.save(checkpoint, 'checkpoint.pth')"
   ]
  },
  {
   "cell_type": "code",
   "execution_count": 19,
   "metadata": {},
   "outputs": [
    {
     "data": {
      "text/plain": [
       "{'input_size': 784,\n",
       " 'output_size': 10,\n",
       " 'hidden_layers': [400, 200, 100],\n",
       " 'state_dict': OrderedDict([('hidden_layers.0.weight',\n",
       "               tensor([[-2.0920e-02, -2.7427e-02, -2.6598e-02,  ...,  3.5315e-02,\n",
       "                         2.0602e-02, -4.7612e-03],\n",
       "                       [-3.1929e-03, -8.4646e-03,  2.7949e-02,  ..., -2.7302e-02,\n",
       "                         1.7568e-02,  6.6188e-03],\n",
       "                       [-1.4161e-02, -1.7032e-02,  2.1864e-02,  ..., -2.2429e-03,\n",
       "                        -1.4005e-02,  3.6427e-03],\n",
       "                       ...,\n",
       "                       [ 5.6007e-03, -6.1224e-04,  1.1970e-02,  ..., -9.4807e-03,\n",
       "                        -3.2227e-03,  6.5190e-03],\n",
       "                       [-1.3811e-02, -3.0761e-03, -3.0884e-04,  ..., -2.6103e-02,\n",
       "                        -2.1301e-02, -1.7349e-02],\n",
       "                       [ 3.3580e-02, -3.0509e-02, -2.5634e-03,  ...,  4.9000e-03,\n",
       "                        -2.7427e-02, -2.0392e-02]])),\n",
       "              ('hidden_layers.0.bias', tensor(1.00000e-02 *\n",
       "                      [ 2.6864,  3.1824,  0.0801,  0.3704,  1.8404,  3.0761,  0.2875,\n",
       "                        1.9945, -1.8902, -2.4702,  3.1183,  0.9004,  3.0965, -1.8701,\n",
       "                        2.0481,  1.5433,  1.8497,  2.7821,  1.3154,  1.5023,  1.2157,\n",
       "                       -3.3104, -2.4834, -2.6034,  1.7553,  2.6576, -1.9635, -0.1404,\n",
       "                        3.0942,  2.8752,  3.4859, -1.1975,  2.8990, -1.1743,  0.3732,\n",
       "                       -0.6271,  1.8194, -1.5910,  2.0343,  2.4134, -2.8666, -0.1673,\n",
       "                       -1.2870,  2.8099,  0.3525, -1.3049, -1.9249,  1.4218,  0.9633,\n",
       "                        1.0908,  3.2604, -0.9316, -2.7475, -3.4380,  2.9905, -1.9516,\n",
       "                       -2.5661,  1.4811, -2.4347, -3.5699,  2.7885,  0.3235, -1.2632,\n",
       "                        2.8934,  2.8409,  2.4307, -0.2465,  0.1791, -1.1228,  0.9757,\n",
       "                        2.5444, -1.7341,  1.2000,  3.4355,  1.1265, -2.3912,  0.1452,\n",
       "                        1.8969, -2.3261, -0.2903, -2.5453, -0.2229, -2.5760, -3.1058,\n",
       "                        3.2333,  0.9570,  0.4785,  3.4181, -2.2128, -0.9923,  1.6893,\n",
       "                       -0.9097,  1.7144,  0.1301, -3.1960, -2.2225, -2.3099,  2.3616,\n",
       "                       -3.1028, -2.0539, -1.7298,  2.9107,  0.0250, -1.2719,  1.6836,\n",
       "                        2.6132, -1.2339,  1.0332,  2.7222, -2.4539, -0.6239, -2.4115,\n",
       "                        0.3536,  1.2618, -0.7059,  0.1218,  1.7618, -1.5265, -1.6772,\n",
       "                        2.3230,  3.0354, -0.7412, -3.1308,  0.2161,  3.1070, -1.8417,\n",
       "                        1.1036,  1.6578,  1.5727,  2.0563,  3.3758,  3.2563,  1.0444,\n",
       "                        2.4154, -0.8080, -2.7090, -0.7656, -2.3303, -3.0559, -0.8477,\n",
       "                        1.9918, -3.3125,  0.9416,  1.9341,  1.7878, -0.4406,  0.5516,\n",
       "                       -2.6416, -3.4853,  0.0369,  3.1822,  1.1100,  2.7205,  1.4983,\n",
       "                        2.4590, -0.7487, -3.3035, -1.2085,  2.6252,  2.5378,  0.0691,\n",
       "                       -0.5348, -3.3118, -2.3648,  1.9936, -3.3060, -0.9347, -3.0755,\n",
       "                        0.5387,  0.4728, -2.4022, -0.0854,  1.5269,  3.0351,  0.9654,\n",
       "                        2.3588, -0.2339,  0.9678, -0.2773,  2.3074, -2.4501, -3.5446,\n",
       "                        0.8944,  0.2549,  2.5905,  2.1368, -0.3172,  2.3575,  1.2973,\n",
       "                       -3.3529,  1.0175, -0.1839, -2.5182, -0.3723,  2.7212, -1.1684,\n",
       "                        0.7394, -2.9493, -2.2947, -3.3525,  3.4610, -0.3532,  1.1759,\n",
       "                        2.7033,  2.5762, -1.2926,  3.3304, -2.1855,  0.8859, -3.0872,\n",
       "                       -1.6959, -1.7178,  1.3491, -1.7445,  1.0556,  3.2139, -0.8155,\n",
       "                       -2.1006,  1.5937, -0.4916,  1.5614, -3.2903, -2.4081,  2.0033,\n",
       "                       -2.2557,  2.2294, -0.7700,  1.9208, -2.3209,  1.2923,  1.2640,\n",
       "                        0.4391,  0.5102,  0.4426, -1.1819,  2.5334, -1.2473,  3.2345,\n",
       "                       -2.1002,  3.3130, -1.4646, -2.2952, -2.7770,  3.3874, -1.9250,\n",
       "                        0.0892,  1.0059,  0.1448,  0.0798,  1.3090,  0.4882, -3.1892,\n",
       "                       -0.5267, -0.4556,  2.4495, -1.3504,  2.5946,  1.5422,  3.3720,\n",
       "                        3.4201, -0.4698, -0.9063, -3.1406,  1.5605,  1.1402, -2.9987,\n",
       "                       -1.5377, -3.4676, -0.2693, -2.0025,  1.2351,  1.3163, -1.6901,\n",
       "                        1.0847,  2.3671,  3.2074, -0.3778,  1.4121, -2.1887,  2.1971,\n",
       "                        1.6208,  1.9124, -0.3389,  0.4768,  1.5438, -0.7525,  1.9522,\n",
       "                        1.0094,  0.9146,  1.9450, -2.9791, -2.6167,  1.6226, -1.9109,\n",
       "                       -2.6437,  2.3083, -0.6612, -2.2133,  2.1993,  2.6581, -0.2347,\n",
       "                        2.0584,  2.1674, -2.5850,  3.1967, -2.8358, -3.5665, -2.4131,\n",
       "                        1.8272,  3.0437, -0.7387, -2.8879,  1.9638, -2.4614,  0.9160,\n",
       "                       -0.5633, -0.9374, -2.6628,  2.6501, -3.1748, -2.2561,  0.4109,\n",
       "                        2.5988, -1.2743, -2.0461,  0.4409,  2.1148,  2.9470, -1.2730,\n",
       "                       -2.9607,  0.0642,  1.7669,  2.0735, -1.3465, -2.7076, -1.5474,\n",
       "                        3.5584,  1.3676, -0.2608, -1.3162, -2.7185,  1.6548, -3.5270,\n",
       "                        0.9069,  1.1595, -3.2366, -2.3400,  1.9205, -0.7992, -1.8742,\n",
       "                        2.0670,  3.0052,  0.3110, -0.5202, -0.8606,  3.3708, -0.4495,\n",
       "                        1.8438,  0.1767, -1.3603,  1.8576, -2.4103,  1.5556,  3.5039,\n",
       "                       -2.6162, -2.6034,  3.0528,  0.9689, -1.3750,  1.8945, -2.8766,\n",
       "                        2.1238, -0.1227, -1.0803, -2.4932,  1.9748,  1.2821,  2.4907,\n",
       "                        1.9421, -2.4742,  0.7981,  3.1385,  2.6272,  2.3324,  0.5388,\n",
       "                       -2.6025, -1.9861,  2.5261, -2.5271,  0.0606,  0.0753, -0.4925,\n",
       "                        1.8924,  0.5537, -1.3943, -0.7309,  2.4346,  0.4456,  0.3112,\n",
       "                       -2.6183])),\n",
       "              ('hidden_layers.1.weight',\n",
       "               tensor([[ 8.5246e-03, -2.9398e-02, -4.0069e-02,  ..., -3.1490e-02,\n",
       "                         1.1724e-02,  4.4380e-03],\n",
       "                       [ 3.2858e-02, -3.8110e-02,  1.1097e-02,  ..., -1.6300e-04,\n",
       "                        -1.8491e-02,  4.9783e-03],\n",
       "                       [-7.9352e-03, -4.8640e-02, -4.3738e-02,  ...,  4.0533e-02,\n",
       "                        -3.9973e-02, -3.2803e-02],\n",
       "                       ...,\n",
       "                       [-2.9870e-02,  4.0930e-02,  7.8434e-03,  ...,  9.3068e-03,\n",
       "                         2.4832e-02, -1.6625e-02],\n",
       "                       [ 3.0746e-02, -1.6217e-02,  3.6309e-02,  ...,  8.8156e-03,\n",
       "                        -8.4396e-03,  1.0902e-02],\n",
       "                       [ 4.6212e-02,  2.3599e-02, -6.3476e-03,  ...,  4.6439e-05,\n",
       "                         3.1432e-02, -3.4580e-02]])),\n",
       "              ('hidden_layers.1.bias', tensor(1.00000e-02 *\n",
       "                      [ 1.9776,  0.0969, -3.3428, -1.4308,  4.9296,  2.9769, -2.5434,\n",
       "                        0.8985,  4.4678,  0.9351,  2.2089,  3.0639, -3.6592,  2.1203,\n",
       "                        3.3852,  1.5116,  2.8804,  0.9806, -4.3824,  2.7793, -1.1464,\n",
       "                        2.6575,  2.1839,  3.8659,  3.0748, -0.0285,  3.8956,  3.1568,\n",
       "                       -2.5813,  0.2057, -4.8671, -1.1034,  0.4313, -3.4699,  3.5595,\n",
       "                       -3.1135,  2.8356,  2.9450,  3.9298,  1.4152, -3.4989, -3.6788,\n",
       "                        0.8993, -1.7234,  1.2043, -2.4472, -3.9138, -3.1716, -2.5820,\n",
       "                        3.2515,  0.9288,  1.5068, -2.3466, -2.0255,  2.1612,  4.2145,\n",
       "                       -1.8033, -3.1688, -3.8234,  0.5303, -4.3112, -3.2613,  4.4382,\n",
       "                        4.3142,  2.9529, -1.4544, -3.6463, -3.0908, -1.7784,  3.4321,\n",
       "                        3.6142, -1.2459,  0.9124, -0.5766,  3.9810,  3.1608,  1.2873,\n",
       "                       -4.5200,  4.1408,  4.7319, -4.0739,  4.2224,  1.4505, -4.5939,\n",
       "                       -1.0867,  0.7168,  1.4404, -2.4010, -4.8793,  4.5550,  1.3870,\n",
       "                       -3.2879, -0.8073,  4.6922,  4.5914,  0.6593, -4.4293,  4.0711,\n",
       "                        4.7420,  0.9629,  0.2347, -2.2757, -4.2283,  3.3876,  3.3894,\n",
       "                        4.8205,  1.6372, -1.8612,  2.0304, -3.4530,  1.5958,  0.1453,\n",
       "                       -0.1638,  0.5327, -0.4694,  1.4654, -1.6383, -1.5346, -0.0010,\n",
       "                        0.4888, -0.0711,  4.7943,  2.7353, -0.8835,  1.7164, -4.9162,\n",
       "                       -2.7296,  2.6755, -4.0340, -3.5292,  2.3739, -2.9113, -3.1033,\n",
       "                       -3.7819,  0.1681,  0.7067, -2.9921, -0.2868, -4.6501,  1.1484,\n",
       "                       -1.0624,  4.7215, -1.1203, -4.4029, -4.4602, -1.3463, -1.0785,\n",
       "                       -3.3410,  4.7438, -4.8836, -4.3214, -4.8780,  3.0370, -3.0782,\n",
       "                        3.5121,  3.8918,  1.9033, -1.9218, -3.1593,  4.6753, -1.0628,\n",
       "                       -1.3461,  1.1275,  0.0567, -2.4108,  2.7605, -3.1348, -2.7170,\n",
       "                        3.8611,  3.3207, -1.6905,  4.8668, -2.7096,  3.7759,  0.4284,\n",
       "                       -0.4655,  2.0768,  1.3104,  0.4843,  4.4600, -0.5406,  2.0361,\n",
       "                        1.0184,  1.6978,  3.2814, -2.7389, -4.6849, -2.1058,  2.4414,\n",
       "                       -2.2553,  4.2527,  0.6815, -4.5062,  4.3999,  1.1717, -2.8615,\n",
       "                       -3.1437,  1.4377, -1.8584,  0.8507])),\n",
       "              ('hidden_layers.2.weight', tensor(1.00000e-02 *\n",
       "                      [[-3.1166,  7.0490, -3.7690,  ...,  2.8907, -0.0739, -0.3921],\n",
       "                       [-2.8062, -3.1566,  0.8849,  ..., -7.0060, -3.6143,  1.1315],\n",
       "                       [-4.0568, -5.3512,  2.7620,  ...,  6.8503,  0.1406, -5.5683],\n",
       "                       ...,\n",
       "                       [ 7.0653, -5.3068,  1.0695,  ..., -3.7254, -0.5635,  0.7820],\n",
       "                       [-6.9763,  4.0702,  1.1121,  ...,  5.8127,  5.6037,  6.1260],\n",
       "                       [-6.9415,  6.7435,  1.6898,  ..., -3.2554,  5.5366, -6.4768]])),\n",
       "              ('hidden_layers.2.bias', tensor(1.00000e-02 *\n",
       "                      [ 1.0670, -1.4554,  4.4969, -0.8387, -5.5298, -5.3164,  0.9126,\n",
       "                       -3.5814,  5.4847, -5.3257,  0.4287,  2.4875,  3.6847, -6.1545,\n",
       "                       -1.7205,  2.8532, -1.4844, -6.1529,  4.2386,  1.2364, -0.1477,\n",
       "                       -2.5792, -6.2455,  1.3367, -5.6751, -3.9239, -1.8922, -4.9922,\n",
       "                       -3.0490,  2.0575,  1.1458, -4.7053, -2.3598, -5.2099,  6.4899,\n",
       "                       -4.8167,  1.6123,  6.5926, -2.9626,  4.7101,  1.9030, -0.1600,\n",
       "                       -5.8230, -5.6493,  6.4681, -1.0579,  1.7194, -3.3467,  2.6707,\n",
       "                       -1.8915,  3.3813, -2.1800,  3.5889,  7.0262,  0.2266, -5.0240,\n",
       "                       -3.8585,  5.9208, -1.0528, -1.0494, -2.6199, -4.1651, -5.7812,\n",
       "                        5.5531,  6.6778, -1.3580, -2.0154,  1.7500, -6.3441, -3.8119,\n",
       "                        0.9943, -2.0513,  4.6965,  3.6811,  5.3806,  4.4377,  6.1748,\n",
       "                        4.5444, -4.8921, -0.4797, -6.5549, -5.0311, -3.0808, -1.4812,\n",
       "                        5.0613, -1.6828, -3.7304,  2.5426, -1.5316, -2.6296, -6.2859,\n",
       "                        0.4311, -3.3111,  2.7212, -4.3094,  0.4970,  0.6570,  3.4532,\n",
       "                        0.0944,  2.5402])),\n",
       "              ('output.weight', tensor(1.00000e-02 *\n",
       "                      [[-0.2242,  9.3684,  5.6132, -5.7282, -5.7058, -1.9647,  3.8785,\n",
       "                        -6.3534,  0.4747, -6.0281, -2.4456,  3.3136,  5.7120,  1.1292,\n",
       "                        -3.9778, -2.4273, -1.1030, -2.5921, -2.5004,  3.8660, -1.1035,\n",
       "                         9.3791,  6.2996,  3.3595,  2.7775,  4.9684, -6.2272, -5.2743,\n",
       "                        -3.5031, -5.5955, -3.8783,  8.3023,  2.8318, -2.4101, -1.4254,\n",
       "                        -5.6330,  1.5746, -3.4175, -5.2536,  3.4545,  0.8222, -7.1635,\n",
       "                         0.0638, -3.7115, -7.1393,  4.6837, -1.9075,  1.9925,  1.7033,\n",
       "                         9.2216,  4.4220,  0.7944,  9.3707, -4.2859, -9.5754,  9.4093,\n",
       "                         1.9133, -1.9917,  5.5452,  1.0585,  5.1442, -4.7167, -9.4864,\n",
       "                        -0.5941, -2.3068, -0.0825, -4.3253, -9.1594,  7.5833, -0.7674,\n",
       "                         0.8200, -5.2020,  4.9768, -0.0049, -5.2556, -1.5421,  3.9855,\n",
       "                        -7.6882, -9.3333, -0.2358,  0.0111, -3.7277,  5.0638, -0.5553,\n",
       "                         0.6273,  2.7661,  1.5298,  2.6257, -7.0183,  2.0983, -0.8643,\n",
       "                        -6.2045, -8.9934,  6.7589,  5.5123,  0.6714, -7.2588, -7.0623,\n",
       "                         1.8981, -8.2524],\n",
       "                       [-2.5215, -6.9114,  2.6603,  4.9346, -0.4505, -2.7595,  1.2971,\n",
       "                         8.2932, -1.7476, -9.0198, -4.1127,  3.5318,  1.1133, -7.8149,\n",
       "                         9.5407, -5.8395, -6.5691, -5.7849, -8.2773,  4.8546, -6.6534,\n",
       "                        -2.9430, -3.5474,  8.4704, -2.8589,  4.5805, -2.7010, -6.8503,\n",
       "                         2.7670,  3.0488,  1.2233, -5.2960,  6.1923,  2.4479,  6.3209,\n",
       "                         6.5328,  0.8596, -7.0488, -3.1625,  8.9687,  4.2396, -9.3118,\n",
       "                         0.1326,  4.0419, -3.2662,  7.5200, -3.1596, -0.5448, -5.1914,\n",
       "                         0.0294, -9.9472,  1.1123,  6.3420, -4.1207, -1.4411, -6.8204,\n",
       "                         3.8732, -4.7618,  4.8776,  5.2233, -8.6263,  0.0135,  6.2787,\n",
       "                         7.6544, -4.8181, -3.6535, -7.5151,  9.9673,  0.4173,  7.3086,\n",
       "                         0.1935, -0.1583,  0.3514, -7.4733,  1.9583,  1.4124,  2.5498,\n",
       "                         8.8541, -4.6902,  7.8689,  9.8514,  0.2504,  8.3139, -5.9235,\n",
       "                        -2.0915, -1.1956,  7.8793, -0.7476, -8.0482,  6.5869, -9.8348,\n",
       "                        -7.5998, -5.5177,  8.3326, -6.8993, -6.6135, -3.6083,  8.3264,\n",
       "                         2.7197,  1.1320],\n",
       "                       [-2.9803,  4.3085, -6.6333, -1.0891,  9.3907,  1.8967,  1.1328,\n",
       "                        -5.4756, -0.3847, -0.0677, -5.8422, -0.8707,  3.8746,  2.2454,\n",
       "                        -6.0933,  9.8967,  5.3293,  5.3767,  4.5760,  7.3371, -5.4622,\n",
       "                        -1.6854, -4.8930,  9.4705,  7.5088,  0.4578,  5.1890,  4.6707,\n",
       "                        -0.4590,  5.7266,  9.5863, -8.4964,  9.4192, -5.8754, -2.3671,\n",
       "                        -2.8455, -1.0783,  2.1401,  0.7329,  0.6532, -9.9789,  1.8293,\n",
       "                         2.8684, -0.0805,  6.3131,  2.5398, -3.6603, -7.4860,  1.6298,\n",
       "                         4.9154, -6.4240, -5.5123, -6.3951,  4.1873, -1.6291, -8.5638,\n",
       "                        -1.3287, -8.3272,  8.4588,  2.5689, -9.9221,  6.8688,  0.0111,\n",
       "                        -2.3144, -1.3394,  7.9022,  1.7509, -2.1835,  8.0573, -0.9564,\n",
       "                        -1.3810,  9.2284,  1.8531,  3.0502,  6.1148, -5.9231, -4.1087,\n",
       "                        -2.8530, -0.1004, -3.7522, -1.6489,  5.5869,  3.2990, -2.9090,\n",
       "                        -9.7058, -9.7363, -0.8312, -6.0527,  0.6101,  0.4575, -7.0965,\n",
       "                        -7.4250,  5.7734, -8.2470,  9.8059, -4.8175,  1.9388, -5.9355,\n",
       "                         1.2317, -8.4861],\n",
       "                       [-6.9195, -4.7326, -1.5788,  8.1032, -8.1867, -3.1453,  8.9205,\n",
       "                         2.7756,  2.0076,  6.2892,  8.1715, -0.1683,  2.6465,  3.1452,\n",
       "                        -0.1483, -6.7163,  8.9313,  8.2388, -9.3799,  6.0607, -0.4558,\n",
       "                        -2.2341,  9.4834, -1.9900,  9.7855, -6.0897, -8.8379, -3.8607,\n",
       "                         1.7210, -7.0363, -9.6405,  0.1414, -2.2637, -8.3279,  0.1524,\n",
       "                         6.2820, -1.9518, -3.0024,  2.4734, -7.1462, -1.8842,  5.6742,\n",
       "                         3.1200,  2.1869,  9.8215,  0.5235, -7.4859,  5.7460, -8.2277,\n",
       "                         0.2380,  0.8217,  7.7463, -9.5759, -4.4400,  8.3537, -6.9632,\n",
       "                        -6.3271, -2.7980,  2.3168,  2.9201,  5.8629,  1.5245,  0.9735,\n",
       "                        -3.6858, -5.6253,  3.8764, -7.7481,  1.1532, -3.8373,  4.4493,\n",
       "                         5.8463,  0.3159, -8.6100,  8.3784, -4.6641,  3.7428,  0.0045,\n",
       "                         3.3342,  3.8357,  5.0278,  8.1938, -0.8133, -2.7409, -1.8642,\n",
       "                         1.7695, -8.3782,  3.4638, -9.2145, -3.2184, -5.5069, -7.6331,\n",
       "                        -9.5668,  2.3350, -1.3750, -4.7442, -2.4658,  7.5312, -8.0945,\n",
       "                        -6.6764, -4.9401],\n",
       "                       [ 2.6372, -0.5016, -2.5874, -9.3670, -6.1049,  4.5240,  9.9161,\n",
       "                        -0.8827, -5.7186,  0.5852, -5.0360,  9.5842, -7.3000,  2.0192,\n",
       "                        -3.1445,  4.8846, -8.0509,  4.1859,  3.9124, -0.4163, -7.6386,\n",
       "                        -8.0701, -1.6220,  7.1390, -3.7991, -2.1571,  8.0226, -3.3102,\n",
       "                         2.7854, -0.4002,  0.1679,  2.3926,  7.4018, -4.8348,  8.3092,\n",
       "                        -3.0616, -4.8830, -7.4821, -7.8393,  2.3461, -7.7112,  3.8767,\n",
       "                        -0.0502,  0.5313,  6.5001, -7.8591, -9.2153, -7.7848,  2.9830,\n",
       "                         1.5886, -4.0782, -5.4286, -5.8146, -5.3711,  8.5978,  8.0272,\n",
       "                        -1.8417, -6.9534,  6.0565,  9.1549,  5.5060, -8.8491,  0.7617,\n",
       "                        -7.5153, -2.9982, -0.8057, -3.8780, -7.7264,  7.3020, -7.0479,\n",
       "                        -3.2829, -9.3757, -1.5760, -8.1848, -1.0885,  5.7354,  9.0819,\n",
       "                        -8.9753, -6.7063,  5.5699,  0.3863,  3.7656,  3.9477, -6.1757,\n",
       "                         4.7733,  9.3236, -5.4973, -1.6896,  7.4274, -5.0476, -5.7341,\n",
       "                        -0.3506, -1.3259, -5.3978,  0.5167,  4.6863, -3.3933, -9.2372,\n",
       "                         5.3264,  0.1036],\n",
       "                       [ 6.4932,  9.4403,  9.9099, -2.0062, -3.0593, -1.8906,  0.2091,\n",
       "                        -5.3817, -4.6884, -0.7521,  1.0648, -7.5670,  8.1631,  8.3322,\n",
       "                         4.0815, -0.6587,  2.8097, -4.1917, -6.0243,  5.2715, -9.7425,\n",
       "                         5.1314,  4.8692,  9.8681, -8.1351,  2.6772, -0.0817, -4.9335,\n",
       "                        -5.2509,  8.4660, -6.1454, -8.2509, -4.2275,  9.0251,  3.9648,\n",
       "                        -3.4499,  3.1417,  3.6436,  2.7075,  6.5705, -0.8953,  3.9028,\n",
       "                        -2.9186, -9.9278, -4.9280,  2.8239,  5.2436, -5.2451, -7.8330,\n",
       "                         8.3394,  1.1034, -4.6208,  3.6285, -9.5327, -5.5611,  8.0406,\n",
       "                        -5.3239, -9.9175, -8.2316,  3.0492, -5.5852,  4.9991,  1.2557,\n",
       "                        -9.3295, -6.6469,  3.0285, -6.7685, -4.9866, -5.9138, -0.7927,\n",
       "                        -1.4771, -0.7022,  8.6443, -8.9020, -4.9694, -5.2226, -9.3045,\n",
       "                        -7.3402, -4.2670,  7.3842,  3.7441,  2.8113, -1.2870, -0.5724,\n",
       "                         1.0793,  6.3584,  3.5844, -7.1001, -7.0790, -5.1322, -1.9648,\n",
       "                        -3.5469,  6.4224,  5.2113,  7.7247,  0.2360,  3.8551,  9.8733,\n",
       "                         2.3721,  1.5458],\n",
       "                       [-9.2377,  0.6212, -4.8180,  9.8138,  5.4402, -1.0927, -6.2001,\n",
       "                         1.6476, -2.9289,  7.0973, -9.9726,  3.3143, -5.1917, -1.9482,\n",
       "                         1.1667,  2.3002, -4.1911,  9.9886,  6.6246, -1.2876,  9.2632,\n",
       "                         5.3052,  3.1439,  4.2510, -0.1917, -2.6754, -4.7310,  5.9007,\n",
       "                         4.9255, -4.1817, -2.8598, -6.3032, -7.6698, -6.4302,  0.7036,\n",
       "                        -0.6610,  3.3930,  1.0498,  5.2339,  7.5063,  6.0553, -0.6029,\n",
       "                        -1.9115, -2.5733,  0.2334,  7.2861, -6.3685, -3.8619, -4.2449,\n",
       "                         6.5327, -8.1549, -5.6231,  9.5579, -0.0351, -1.6292, -8.6138,\n",
       "                         9.1315, -8.3889,  4.8925,  9.8059,  7.0583, -2.2720, -2.1493,\n",
       "                         9.7591,  6.9866, -7.4622,  0.1052, -6.8267,  2.6817, -2.8562,\n",
       "                        -3.1290, -3.2343,  0.2670, -4.5971, -8.5371,  0.2332,  1.0916,\n",
       "                        -7.5003, -6.6425,  2.1010, -1.6935,  7.1471,  6.3273,  8.3832,\n",
       "                        -4.9923, -1.1782,  8.8762,  9.5088, -7.8868, -9.3894, -3.0567,\n",
       "                         5.1706, -3.5471, -7.2105,  9.2633, -9.2756, -1.5335,  6.6982,\n",
       "                        -1.7667, -2.6550],\n",
       "                       [ 6.7970,  3.9298, -3.6307, -4.9574,  3.1607, -4.5347, -6.0746,\n",
       "                        -6.7193,  4.9401, -5.8707, -6.9555,  9.0794, -1.7466, -4.7205,\n",
       "                        -0.2391, -5.3541,  4.8788,  0.7497,  3.0573,  5.6684, -2.6915,\n",
       "                        -6.4289, -0.4241, -5.5356,  0.8369, -6.9519,  6.8571, -9.9097,\n",
       "                        -5.4591, -3.9147,  8.5925, -4.2477, -9.5588,  1.4737,  2.8759,\n",
       "                         7.8467,  1.1679,  3.3640,  5.0294, -0.2009,  5.6422, -6.3361,\n",
       "                         6.3454, -9.3771, -0.0915, -4.1737, -4.3114, -4.9181,  0.0206,\n",
       "                        -7.6675,  3.5223, -8.2726, -6.1186, -0.0856, -2.7885,  9.0110,\n",
       "                        -5.2313,  2.4213,  6.7211,  7.7946, -6.8356, -5.8023, -1.4781,\n",
       "                        -3.6535, -5.5411,  1.0661, -6.6052, -6.1061, -0.4271,  2.3691,\n",
       "                         7.3657,  9.5324,  2.7583, -4.5188, -9.5216,  4.3430,  1.8908,\n",
       "                        -4.1104,  1.3737, -9.7382,  0.4328,  0.3586,  5.4120,  5.4285,\n",
       "                        -8.2596,  6.5251, -8.7238, -0.9925, -5.8535, -5.1277, -0.5444,\n",
       "                        -9.9564, -7.3565,  8.9746,  9.0818, -1.4042, -8.4984, -4.4203,\n",
       "                        -5.0510,  0.9833],\n",
       "                       [-8.0924,  5.4804, -1.4800, -9.7194, -6.5761,  8.2709, -7.9254,\n",
       "                        -1.0984, -8.7672, -1.5778, -5.2577,  7.0230,  5.6159,  3.7619,\n",
       "                         8.6017, -8.0970, -5.0623, -1.2997,  2.2620,  1.5598, -7.8538,\n",
       "                         9.1896, -2.0203, -1.5305, -1.6886, -7.7413, -4.5483, -5.8290,\n",
       "                        -8.1459,  4.3479, -9.5537, -4.7812, -4.3629, -0.4141, -4.9524,\n",
       "                         0.7969,  9.8166, -3.9019,  7.7139,  1.6126, -0.5850,  8.6787,\n",
       "                         1.0060, -9.1444, -7.6378,  0.5843, -6.1619, -8.0142, -2.7804,\n",
       "                        -9.8969,  9.6721,  1.8335,  7.2964,  1.2604,  9.7071, -8.3638,\n",
       "                        -7.8809, -3.4487, -5.9473, -6.5812,  1.0796,  7.3209, -8.0693,\n",
       "                         8.4660,  5.4799, -9.9029,  4.8739,  8.3723, -3.2800, -4.3498,\n",
       "                        -8.1034, -9.0369,  0.3427, -2.4549,  7.4121,  1.8509, -9.6505,\n",
       "                         4.2989,  5.7128, -6.6674, -2.2954,  1.0672, -7.1037,  2.9817,\n",
       "                         7.5203, -3.1053, -8.4746, -9.7054, -1.7838,  7.6974, -1.1437,\n",
       "                        -2.8161,  4.1078, -6.7856, -4.1784, -3.6667,  9.5802,  9.8538,\n",
       "                        -6.5233,  4.5171],\n",
       "                       [ 8.5556,  9.5135,  3.5320,  3.3593, -4.3727, -3.2054,  9.0598,\n",
       "                        -8.2221, -9.1534,  1.8696,  3.0377, -7.7738,  5.7539,  9.0957,\n",
       "                         2.7779, -9.8396,  4.8181, -6.1182, -5.3000, -5.5558,  3.2234,\n",
       "                         9.3104,  8.6360, -7.9739,  0.6949, -9.0826, -3.8572, -8.5864,\n",
       "                        -2.3783,  7.8412,  8.5876, -2.8188,  8.8269, -3.0833, -1.5694,\n",
       "                         6.1915, -4.8986,  0.4317, -5.7997,  5.7236, -5.5659,  8.6017,\n",
       "                         4.6874,  9.7338,  2.1079,  1.2858,  4.2301, -0.4166,  3.6558,\n",
       "                        -7.7047, -9.1282, -8.2348, -3.3295, -4.6728, -5.7015,  4.0931,\n",
       "                         0.2330,  9.6881, -8.6484, -5.7257,  9.9105, -0.3218,  6.6203,\n",
       "                         1.3444,  1.8186,  3.8844,  1.1204, -8.7532, -0.6029, -7.1682,\n",
       "                         7.0314, -4.3676, -0.9190, -9.4283, -3.7973, -8.2187, -6.4220,\n",
       "                         1.6629,  2.5438,  2.7399,  1.2009, -9.1148, -1.9681, -0.5999,\n",
       "                        -5.4368, -2.4708,  2.0122,  9.3840,  1.7983, -7.9932,  4.0605,\n",
       "                         0.5915, -8.2271,  9.9982, -4.6190, -0.3190, -1.0392,  2.0741,\n",
       "                         2.6072, -6.9997]])),\n",
       "              ('output.bias',\n",
       "               tensor([-0.0743, -0.1925,  0.1192,  0.1954, -0.0281,  0.0661, -0.0229,\n",
       "                        0.0397, -0.0085, -0.0642]))])}"
      ]
     },
     "execution_count": 19,
     "metadata": {},
     "output_type": "execute_result"
    }
   ],
   "source": [
    "checkpoint"
   ]
  },
  {
   "cell_type": "markdown",
   "metadata": {},
   "source": [
    "Now the checkpoint has all the necessary information to rebuild the trained model. You can easily make that a function if you want. Similarly, we can write a function to load checkpoints. "
   ]
  },
  {
   "cell_type": "code",
   "execution_count": 20,
   "metadata": {},
   "outputs": [],
   "source": [
    "def load_checkpoint(filepath):\n",
    "    checkpoint = torch.load(filepath)\n",
    "    model = fc_model.Network(checkpoint['input_size'],\n",
    "                             checkpoint['output_size'],\n",
    "                             checkpoint['hidden_layers'])\n",
    "    model.load_state_dict(checkpoint['state_dict'])\n",
    "    \n",
    "    return model"
   ]
  },
  {
   "cell_type": "code",
   "execution_count": 21,
   "metadata": {},
   "outputs": [
    {
     "name": "stdout",
     "output_type": "stream",
     "text": [
      "Network(\n",
      "  (hidden_layers): ModuleList(\n",
      "    (0): Linear(in_features=784, out_features=400, bias=True)\n",
      "    (1): Linear(in_features=400, out_features=200, bias=True)\n",
      "    (2): Linear(in_features=200, out_features=100, bias=True)\n",
      "  )\n",
      "  (output): Linear(in_features=100, out_features=10, bias=True)\n",
      "  (dropout): Dropout(p=0.5)\n",
      ")\n"
     ]
    }
   ],
   "source": [
    "model = load_checkpoint('checkpoint.pth')\n",
    "print(model)"
   ]
  }
 ],
 "metadata": {
  "kernelspec": {
   "display_name": "Python 3",
   "language": "python",
   "name": "python3"
  },
  "language_info": {
   "codemirror_mode": {
    "name": "ipython",
    "version": 3
   },
   "file_extension": ".py",
   "mimetype": "text/x-python",
   "name": "python",
   "nbconvert_exporter": "python",
   "pygments_lexer": "ipython3",
   "version": "3.6.3"
  }
 },
 "nbformat": 4,
 "nbformat_minor": 2
}
