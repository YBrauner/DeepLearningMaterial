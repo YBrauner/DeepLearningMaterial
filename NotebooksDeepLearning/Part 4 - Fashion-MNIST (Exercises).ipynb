{
 "cells": [
  {
   "cell_type": "markdown",
   "metadata": {},
   "source": [
    "# Classifying Fashion-MNIST\n",
    "\n",
    "Now it's your turn to build and train a neural network. You'll be using the [Fashion-MNIST dataset](https://github.com/zalandoresearch/fashion-mnist), a drop-in replacement for the MNIST dataset. MNIST is actually quite trivial with neural networks where you can easily achieve better than 97% accuracy. Fashion-MNIST is a set of 28x28 greyscale images of clothes. It's more complex than MNIST, so it's a better representation of the actual performance of your network, and a better representation of datasets you'll use in the real world.\n",
    "\n",
    "<img src='assets/fashion-mnist-sprite.png' width=500px>\n",
    "\n",
    "In this notebook, you'll build your own neural network. For the most part, you could just copy and paste the code from Part 3, but you wouldn't be learning. It's important for you to write the code yourself and get it to work. Feel free to consult the previous notebooks though as you work through this.\n",
    "\n",
    "First off, let's load the dataset through torchvision."
   ]
  },
  {
   "cell_type": "code",
   "execution_count": 1,
   "metadata": {},
   "outputs": [
    {
     "name": "stdout",
     "output_type": "stream",
     "text": [
      "Downloading http://fashion-mnist.s3-website.eu-central-1.amazonaws.com/train-images-idx3-ubyte.gz\n",
      "Downloading http://fashion-mnist.s3-website.eu-central-1.amazonaws.com/train-labels-idx1-ubyte.gz\n",
      "Downloading http://fashion-mnist.s3-website.eu-central-1.amazonaws.com/t10k-images-idx3-ubyte.gz\n",
      "Downloading http://fashion-mnist.s3-website.eu-central-1.amazonaws.com/t10k-labels-idx1-ubyte.gz\n",
      "Processing...\n",
      "Done!\n"
     ]
    }
   ],
   "source": [
    "import torch\n",
    "from torchvision import datasets, transforms\n",
    "import helper\n",
    "\n",
    "# Define a transform to normalize the data\n",
    "transform = transforms.Compose([transforms.ToTensor(),\n",
    "                                transforms.Normalize((0.5, 0.5, 0.5), (0.5, 0.5, 0.5))])\n",
    "# Download and load the training data\n",
    "trainset = datasets.FashionMNIST('~/.pytorch/F_MNIST_data/', download=True, train=True, transform=transform)\n",
    "trainloader = torch.utils.data.DataLoader(trainset, batch_size=64, shuffle=True)\n",
    "\n",
    "# Download and load the test data\n",
    "testset = datasets.FashionMNIST('~/.pytorch/F_MNIST_data/', download=True, train=False, transform=transform)\n",
    "testloader = torch.utils.data.DataLoader(testset, batch_size=64, shuffle=True)"
   ]
  },
  {
   "cell_type": "markdown",
   "metadata": {},
   "source": [
    "Here we can see one of the images."
   ]
  },
  {
   "cell_type": "code",
   "execution_count": 2,
   "metadata": {},
   "outputs": [
    {
     "data": {
      "image/png": "[encoded data removed]",
      "text/plain": [
       "<matplotlib.figure.Figure at 0x7fb089a3b550>"
      ]
     },
     "metadata": {
      "needs_background": "light"
     },
     "output_type": "display_data"
    }
   ],
   "source": [
    "image, label = next(iter(trainloader))\n",
    "helper.imshow(image[0,:]);"
   ]
  },
  {
   "cell_type": "markdown",
   "metadata": {},
   "source": [
    "## Building the network\n",
    "\n",
    "Here you should define your network. As with MNIST, each image is 28x28 which is a total of 784 pixels, and there are 10 classes. You should include at least one hidden layer. We suggest you use ReLU activations for the layers and to return the logits or log-softmax from the forward pass. It's up to you how many layers you add and the size of those layers."
   ]
  },
  {
   "cell_type": "code",
   "execution_count": 3,
   "metadata": {},
   "outputs": [],
   "source": [
    "import torch\n",
    "from torch import nn\n",
    "import torch.nn.functional as F\n",
    "from torchvision import datasets, transforms\n",
    "from torch import optim\n"
   ]
  },
  {
   "cell_type": "code",
   "execution_count": 4,
   "metadata": {},
   "outputs": [],
   "source": [
    "# TODO: Define your network architecture here\n",
    "\n",
    "model = nn.Sequential(nn.Linear(784, 128),\n",
    "                      nn.ReLU(),\n",
    "                      nn.Linear(128, 64),\n",
    "                      nn.ReLU(),\n",
    "                      nn.Linear(64, 32),\n",
    "                      nn.ReLU(),\n",
    "                      nn.Linear(32, 10),\n",
    "                      nn.LogSoftmax(dim=1))\n"
   ]
  },
  {
   "cell_type": "markdown",
   "metadata": {},
   "source": [
    "# Train the network\n",
    "\n",
    "Now you should create your network and train it. First you'll want to define [the criterion](http://pytorch.org/docs/master/nn.html#loss-functions) ( something like `nn.CrossEntropyLoss`) and [the optimizer](http://pytorch.org/docs/master/optim.html) (typically `optim.SGD` or `optim.Adam`).\n",
    "\n",
    "Then write the training code. Remember the training pass is a fairly straightforward process:\n",
    "\n",
    "* Make a forward pass through the network to get the logits \n",
    "* Use the logits to calculate the loss\n",
    "* Perform a backward pass through the network with `loss.backward()` to calculate the gradients\n",
    "* Take a step with the optimizer to update the weights\n",
    "\n",
    "By adjusting the hyperparameters (hidden units, learning rate, etc), you should be able to get the training loss below 0.4."
   ]
  },
  {
   "cell_type": "code",
   "execution_count": 25,
   "metadata": {},
   "outputs": [],
   "source": [
    "# TODO: Create the network, define the criterion and optimizer\n",
    "criterion = nn.NLLLoss()\n",
    "optimizer = optim.SGD(model.parameters(), lr=0.05)"
   ]
  },
  {
   "cell_type": "code",
   "execution_count": 27,
   "metadata": {
    "scrolled": true
   },
   "outputs": [
    {
     "name": "stdout",
     "output_type": "stream",
     "text": [
      "Training loss: 0.25026362833342575\n",
      "Training loss: 0.25031422878077414\n",
      "Training loss: 0.24641435322508629\n",
      "Training loss: 0.24547876397382096\n",
      "Training loss: 0.2400575065091729\n",
      "Training loss: 0.24126358176154622\n",
      "Training loss: 0.23858669296558352\n",
      "Training loss: 0.23627794471615032\n",
      "Training loss: 0.23647193505422776\n",
      "Training loss: 0.23272195484227082\n",
      "Training loss: 0.22987325024455468\n",
      "Training loss: 0.22808405939243367\n",
      "Training loss: 0.22631302249552346\n",
      "Training loss: 0.22692009879709052\n",
      "Training loss: 0.22295467851004366\n",
      "Training loss: 0.2205187748672802\n",
      "Training loss: 0.216101243512145\n",
      "Training loss: 0.21431240603240378\n",
      "Training loss: 0.21133448684345812\n",
      "Training loss: 0.2080681997178587\n",
      "Training loss: 0.20935722464906065\n",
      "Training loss: 0.20679548394475092\n",
      "Training loss: 0.20726180018813434\n",
      "Training loss: 0.2077223956823222\n",
      "Training loss: 0.20028444436360907\n",
      "Training loss: 0.2040456768665423\n",
      "Training loss: 0.20097697476572446\n",
      "Training loss: 0.20172132243479746\n",
      "Training loss: 0.19756242159857298\n",
      "Training loss: 0.1943004267619871\n",
      "Training loss: 0.1947620575453268\n",
      "Training loss: 0.19438872241508415\n",
      "Training loss: 0.19225350247104284\n",
      "Training loss: 0.19172049333244118\n",
      "Training loss: 0.19019793987528347\n",
      "Training loss: 0.1902921990966047\n",
      "Training loss: 0.2685055455474902\n",
      "Training loss: 0.2269486134716951\n",
      "Training loss: 0.20513326980507196\n",
      "Training loss: 0.196338045944982\n",
      "Training loss: 0.19142284001241613\n",
      "Training loss: 0.1890111701654346\n",
      "Training loss: 0.18966662270952261\n",
      "Training loss: 0.18189883678516092\n",
      "Training loss: 0.18647472053440586\n",
      "Training loss: 0.18278520068189483\n",
      "Training loss: 0.18341307008841526\n",
      "Training loss: 0.18187314392462658\n",
      "Training loss: 0.17753396355417936\n",
      "Training loss: 0.18051306160289976\n",
      "Training loss: 0.16993184450036808\n",
      "Training loss: 0.19329151839240274\n",
      "Training loss: 0.18157337430014667\n",
      "Training loss: 0.176453656886321\n",
      "Training loss: 0.1679811763313057\n",
      "Training loss: 0.16727361528437212\n",
      "Training loss: 0.16461724506369405\n",
      "Training loss: 0.16476156973818154\n",
      "Training loss: 0.16532018389513117\n",
      "Training loss: 0.16055169720639553\n",
      "Training loss: 0.15670426773117868\n",
      "Training loss: 0.15818027907343052\n",
      "Training loss: 0.16274317991989318\n",
      "Training loss: 0.16117376267913974\n",
      "Training loss: 0.15709102356921573\n",
      "Training loss: 0.15426658585206912\n",
      "Training loss: 0.1560831358556999\n",
      "Training loss: 0.1552742874549666\n",
      "Training loss: 0.1551018057228215\n",
      "Training loss: 0.151509784158073\n",
      "Training loss: 0.15748227628341108\n",
      "Training loss: 0.15150190022553622\n",
      "Training loss: 0.15608426899577715\n",
      "Training loss: 0.1498770534064867\n",
      "Training loss: 0.15693597996166583\n"
     ]
    }
   ],
   "source": [
    "# TODO: Train the network here\n",
    "epochs = 75\n",
    "for e in range(epochs):\n",
    "    running_loss = 0\n",
    "    for image, labels in trainloader:\n",
    "        # Flatten MNIST images into a 784 long vector\n",
    "        image = image.view(image.shape[0], -1)\n",
    "    \n",
    "        # TODO: Training pass\n",
    "        optimizer.zero_grad()\n",
    "        output = model.forward(image)\n",
    "        \n",
    "        loss = criterion(output, labels)\n",
    "        loss.backward()\n",
    "        optimizer.step()\n",
    "        \n",
    "        running_loss += loss.item()\n",
    "    else:\n",
    "        print(f\"Training loss number {e}: {running_loss/len(trainloader)}\")"
   ]
  },
  {
   "cell_type": "code",
   "execution_count": 37,
   "metadata": {},
   "outputs": [
    {
     "data": {
      "image/png": "[encoded data removed]",
      "text/plain": [
       "<matplotlib.figure.Figure at 0x7fb0324fa3c8>"
      ]
     },
     "metadata": {
      "image/png": {
       "height": 204,
       "width": 423
      },
      "needs_background": "light"
     },
     "output_type": "display_data"
    }
   ],
   "source": [
    "%matplotlib inline\n",
    "%config InlineBackend.figure_format = 'retina'\n",
    "\n",
    "import helper\n",
    "\n",
    "# Test out your network!\n",
    "\n",
    "dataiter = iter(testloader)\n",
    "images, labels = dataiter.next()\n",
    "img = images[0]\n",
    "# Convert 2D image to 1D vector\n",
    "img = img.resize_(1, 784)\n",
    "\n",
    "# TODO: Calculate the class probabilities (softmax) for img\n",
    "with torch.no_grad():\n",
    "    out = model.forward(img)\n",
    "    ps = F.softmax(out, dim=1)\n",
    "\n",
    "# Plot the image and probabilities\n",
    "helper.view_classify(img.resize_(1, 28, 28), ps, version='Fashion')"
   ]
  }
 ],
 "metadata": {
  "kernelspec": {
   "display_name": "Python 3",
   "language": "python",
   "name": "python3"
  },
  "language_info": {
   "codemirror_mode": {
    "name": "ipython",
    "version": 3
   },
   "file_extension": ".py",
   "mimetype": "text/x-python",
   "name": "python",
   "nbconvert_exporter": "python",
   "pygments_lexer": "ipython3",
   "version": "3.6.3"
  }
 },
 "nbformat": 4,
 "nbformat_minor": 2
}
